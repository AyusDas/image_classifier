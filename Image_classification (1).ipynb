{
  "nbformat": 4,
  "nbformat_minor": 0,
  "metadata": {
    "colab": {
      "provenance": [],
      "gpuType": "T4"
    },
    "kernelspec": {
      "name": "python3",
      "display_name": "Python 3"
    },
    "language_info": {
      "name": "python"
    },
    "accelerator": "GPU"
  },
  "cells": [
    {
      "cell_type": "code",
      "source": [
        "import tensorflow as tf\n",
        "import os"
      ],
      "metadata": {
        "id": "8ZUErofTKAPH"
      },
      "execution_count": null,
      "outputs": []
    },
    {
      "cell_type": "code",
      "source": [
        "gpus = tf.config.experimental.list_physical_devices('GPU')\n",
        "for gpu in gpus:\n",
        "    tf.config.experimental.set_memory_growth(gpu, True)"
      ],
      "metadata": {
        "id": "deobDZJpLSA-"
      },
      "execution_count": null,
      "outputs": []
    },
    {
      "cell_type": "code",
      "source": [
        "tf.config.list_physical_devices('GPU')"
      ],
      "metadata": {
        "colab": {
          "base_uri": "https://localhost:8080/"
        },
        "id": "Ci8VieI9Lf0Z",
        "outputId": "24d34285-fdd4-4a03-c3ba-1e5e7da8fa63"
      },
      "execution_count": null,
      "outputs": [
        {
          "output_type": "execute_result",
          "data": {
            "text/plain": [
              "[PhysicalDevice(name='/physical_device:GPU:0', device_type='GPU')]"
            ]
          },
          "metadata": {},
          "execution_count": 5
        }
      ]
    },
    {
      "cell_type": "code",
      "source": [
        "import cv2\n",
        "import imghdr"
      ],
      "metadata": {
        "id": "e_DzB3BeLiqk"
      },
      "execution_count": null,
      "outputs": []
    },
    {
      "cell_type": "code",
      "source": [
        "from google.colab import drive\n",
        "drive.mount('/content/drive')"
      ],
      "metadata": {
        "id": "j1gXwFtckfdw",
        "colab": {
          "base_uri": "https://localhost:8080/"
        },
        "outputId": "47f60bd4-8b5a-4a4e-acc0-d4de829da82d"
      },
      "execution_count": null,
      "outputs": [
        {
          "output_type": "stream",
          "name": "stdout",
          "text": [
            "Mounted at /content/drive\n"
          ]
        }
      ]
    },
    {
      "cell_type": "code",
      "source": [
        "data_dir = '/content/drive/MyDrive/data'\n",
        "image_exts = ['jpeg','jpg', 'bmp', 'png']\n",
        "for image_class in os.listdir(data_dir):\n",
        "    for image in os.listdir(os.path.join(data_dir, image_class)):\n",
        "        image_path = os.path.join(data_dir, image_class, image)\n",
        "        try:\n",
        "            img = cv2.imread(image_path)\n",
        "            tip = imghdr.what(image_path)\n",
        "            if tip not in image_exts:\n",
        "                print('Image not in ext list {}'.format(image_path))\n",
        "                os.remove(image_path)\n",
        "        except Exception as e:\n",
        "            print('Issue with image {}'.format(image_path))"
      ],
      "metadata": {
        "colab": {
          "base_uri": "https://localhost:8080/"
        },
        "id": "KviyFzl-MPVr",
        "outputId": "24d42854-ce36-462b-ab69-9e3ba0721931"
      },
      "execution_count": null,
      "outputs": [
        {
          "output_type": "stream",
          "name": "stdout",
          "text": [
            "Image not in ext list /content/drive/MyDrive/data/sad/sad-serious-illness-womandepressed-emotion-260nw-1810793920.jpg\n",
            "Image not in ext list /content/drive/MyDrive/data/sad/depositphotos_210655610-stock-photo-sad-man-sitting-floor-home.jpg\n",
            "Image not in ext list /content/drive/MyDrive/data/sad/depositphotos_508407352-stock-photo-caucasian-male-sitting-floor-windows.jpg\n",
            "Image not in ext list /content/drive/MyDrive/data/sad/sad-person-pictures-2bnso9uiwlhrikrx.jpg\n",
            "Image not in ext list /content/drive/MyDrive/data/sad/sad-person-pictures-43vbzyaz0nlwlg1q.jpg\n",
            "Image not in ext list /content/drive/MyDrive/data/sad/portrait-sad-man-260nw-126009806.jpg\n",
            "Image not in ext list /content/drive/MyDrive/data/sad/sad-person-pictures-2560-x-1707-a8ginomrbkhyh3ri.jpg\n",
            "Image not in ext list /content/drive/MyDrive/data/sad/very-sad-man-sitting-alone-on-white-background-depressed-young-man-sitting-businessman-vector.jpg\n",
            "Image not in ext list /content/drive/MyDrive/data/sad/CC_HE_1221887081_SituationalDepression.jpg\n",
            "Image not in ext list /content/drive/MyDrive/data/sad/d-mystery-autumn-landscape-with-lonely-tree-at-the-end-of-footpath-310088810.jpg\n",
            "Image not in ext list /content/drive/MyDrive/data/sad/depositphotos_507186534-stock-photo-sad-foggy-landscape-trees-depressed.jpg\n",
            "Image not in ext list /content/drive/MyDrive/data/sad/f0903137499941.5742e3092047a.jpg\n",
            "Image not in ext list /content/drive/MyDrive/data/sad/isty-foggy-road-in-a-dramatic-mystic-scene-guy-walking-in-a-foggy-2086322623.jpg\n",
            "Image not in ext list /content/drive/MyDrive/data/sad/depositphotos_255276320-stock-photo-autumn-landscape-morning-fog-alley.jpg\n",
            "Image not in ext list /content/drive/MyDrive/data/sad/alone-sad-pictures-1476-x-1200-ahowdovptsrsg7s9.jpg\n",
            "Image not in ext list /content/drive/MyDrive/data/sad/alone-sea-lonely-sad-depression-260nw-1555501925.jpg\n",
            "Image not in ext list /content/drive/MyDrive/data/sad/-in-a-long-medieval-dress-in-a-picturesque-gloomy-foggy-landscape-2187502213.jpg\n",
            "Image not in ext list /content/drive/MyDrive/data/happy/traitshappypeople.jpg\n",
            "Image not in ext list /content/drive/MyDrive/data/happy/guilherme-stecanella-375176-unsplash.jpg\n",
            "Image not in ext list /content/drive/MyDrive/data/happy/how-to-watch-shiny-happy-people-64a2f8ea7dc3014582658-900.webp\n",
            "Image not in ext list /content/drive/MyDrive/data/happy/2560px-Happy_People.jpg\n",
            "Image not in ext list /content/drive/MyDrive/data/happy/Happy20People.jpg\n",
            "Image not in ext list /content/drive/MyDrive/data/happy/eler-girl-with-raised-up-hands-enjoying-valley-mountains-landscape-293714969.jpg\n",
            "Image not in ext list /content/drive/MyDrive/data/happy/stock-photo-happy-couple-pointing-upwards-together-against-desert-landscape-249442765.jpg\n",
            "Image not in ext list /content/drive/MyDrive/data/happy/appy-groom-holds-in-hands-his-beautiful-bride.-Wonderful-mountains-landscape.jpg\n",
            "Image not in ext list /content/drive/MyDrive/data/happy/e-open-in-front-of-beautiful-landscape-with-sun-rays-happy-and-joy-295315484.jpg\n",
            "Image not in ext list /content/drive/MyDrive/data/happy/img_5152.jpg\n",
            "Image not in ext list /content/drive/MyDrive/data/happy/20221201_095626.jpg\n",
            "Image not in ext list /content/drive/MyDrive/data/happy/beautiful-scenery-rice-field-3t2oejzc4jpaw3gt.jpg\n"
          ]
        }
      ]
    },
    {
      "cell_type": "code",
      "source": [
        "import numpy as np\n",
        "from matplotlib import pyplot as plt\n",
        "data = tf.keras.utils.image_dataset_from_directory('/content/drive/MyDrive/data')"
      ],
      "metadata": {
        "colab": {
          "base_uri": "https://localhost:8080/"
        },
        "id": "j0XVwZstNE_Z",
        "outputId": "9cdb7efb-dc49-44c5-99c8-b854c2bbaf75"
      },
      "execution_count": null,
      "outputs": [
        {
          "output_type": "stream",
          "name": "stdout",
          "text": [
            "Found 326 files belonging to 2 classes.\n"
          ]
        }
      ]
    },
    {
      "cell_type": "code",
      "source": [
        "data_iterator = data.as_numpy_iterator()\n",
        "batch = data_iterator.next()"
      ],
      "metadata": {
        "id": "etdutR9tiuZY"
      },
      "execution_count": null,
      "outputs": []
    },
    {
      "cell_type": "code",
      "source": [
        "data = data.map(lambda x,y: (x/255, y))\n",
        "data.as_numpy_iterator().next()"
      ],
      "metadata": {
        "colab": {
          "base_uri": "https://localhost:8080/"
        },
        "id": "9wtiSjZvN0EZ",
        "outputId": "a6520d30-f601-4924-fd25-75fd46d326ec"
      },
      "execution_count": null,
      "outputs": [
        {
          "output_type": "execute_result",
          "data": {
            "text/plain": [
              "(array([[[[0.00000000e+00, 0.00000000e+00, 0.00000000e+00],\n",
              "          [0.00000000e+00, 0.00000000e+00, 0.00000000e+00],\n",
              "          [0.00000000e+00, 0.00000000e+00, 0.00000000e+00],\n",
              "          ...,\n",
              "          [1.65747553e-02, 1.51654414e-03, 1.56862754e-02],\n",
              "          [1.17647061e-02, 3.92156886e-03, 1.56862754e-02],\n",
              "          [6.75551454e-03, 0.00000000e+00, 1.06770834e-02]],\n",
              " \n",
              "         [[0.00000000e+00, 0.00000000e+00, 0.00000000e+00],\n",
              "          [0.00000000e+00, 0.00000000e+00, 0.00000000e+00],\n",
              "          [0.00000000e+00, 0.00000000e+00, 0.00000000e+00],\n",
              "          ...,\n",
              "          [1.77429207e-02, 1.92051311e-03, 1.63449757e-02],\n",
              "          [1.26446895e-02, 4.46962845e-03, 1.63449757e-02],\n",
              "          [2.02665441e-02, 6.58700999e-04, 1.63449757e-02]],\n",
              " \n",
              "         [[0.00000000e+00, 0.00000000e+00, 0.00000000e+00],\n",
              "          [0.00000000e+00, 0.00000000e+00, 0.00000000e+00],\n",
              "          [0.00000000e+00, 0.00000000e+00, 0.00000000e+00],\n",
              "          ...,\n",
              "          [2.11243872e-02, 1.51654414e-03, 1.72028188e-02],\n",
              "          [1.45986518e-02, 4.77941195e-03, 1.72028188e-02],\n",
              "          [2.11243872e-02, 1.51654414e-03, 1.72028188e-02]],\n",
              " \n",
              "         ...,\n",
              " \n",
              "         [[0.00000000e+00, 0.00000000e+00, 0.00000000e+00],\n",
              "          [0.00000000e+00, 0.00000000e+00, 0.00000000e+00],\n",
              "          [0.00000000e+00, 0.00000000e+00, 0.00000000e+00],\n",
              "          ...,\n",
              "          [0.00000000e+00, 0.00000000e+00, 0.00000000e+00],\n",
              "          [0.00000000e+00, 0.00000000e+00, 0.00000000e+00],\n",
              "          [0.00000000e+00, 0.00000000e+00, 0.00000000e+00]],\n",
              " \n",
              "         [[0.00000000e+00, 0.00000000e+00, 0.00000000e+00],\n",
              "          [0.00000000e+00, 0.00000000e+00, 0.00000000e+00],\n",
              "          [0.00000000e+00, 0.00000000e+00, 0.00000000e+00],\n",
              "          ...,\n",
              "          [0.00000000e+00, 0.00000000e+00, 0.00000000e+00],\n",
              "          [0.00000000e+00, 0.00000000e+00, 0.00000000e+00],\n",
              "          [0.00000000e+00, 0.00000000e+00, 0.00000000e+00]],\n",
              " \n",
              "         [[0.00000000e+00, 0.00000000e+00, 0.00000000e+00],\n",
              "          [0.00000000e+00, 0.00000000e+00, 0.00000000e+00],\n",
              "          [0.00000000e+00, 0.00000000e+00, 0.00000000e+00],\n",
              "          ...,\n",
              "          [0.00000000e+00, 0.00000000e+00, 0.00000000e+00],\n",
              "          [0.00000000e+00, 0.00000000e+00, 0.00000000e+00],\n",
              "          [0.00000000e+00, 0.00000000e+00, 0.00000000e+00]]],\n",
              " \n",
              " \n",
              "        [[[6.82220817e-01, 6.70456111e-01, 5.95946312e-01],\n",
              "          [6.89828455e-01, 6.78063750e-01, 6.03553951e-01],\n",
              "          [6.98651969e-01, 6.86887264e-01, 6.12377465e-01],\n",
              "          ...,\n",
              "          [6.28035009e-01, 6.30826831e-01, 5.73473871e-01],\n",
              "          [8.85943234e-01, 8.90232444e-01, 8.97527933e-01],\n",
              "          [9.37787235e-01, 9.38013196e-01, 9.37306583e-01]],\n",
              " \n",
              "         [[6.83120787e-01, 6.75277650e-01, 5.86674690e-01],\n",
              "          [6.76997185e-01, 6.69154048e-01, 5.73688328e-01],\n",
              "          [6.98039234e-01, 6.90196097e-01, 6.00612760e-01],\n",
              "          ...,\n",
              "          [6.18301928e-01, 6.05905354e-01, 5.41258812e-01],\n",
              "          [7.54877090e-01, 7.73749590e-01, 7.47671545e-01],\n",
              "          [8.74873638e-01, 8.96564782e-01, 8.89640749e-01]],\n",
              " \n",
              "         [[6.88664198e-01, 6.75367653e-01, 5.52083313e-01],\n",
              "          [6.82352960e-01, 6.69056356e-01, 5.45772076e-01],\n",
              "          [6.96022928e-01, 6.82726324e-01, 5.63474655e-01],\n",
              "          ...,\n",
              "          [6.47236884e-01, 6.13407612e-01, 5.45821846e-01],\n",
              "          [5.93357444e-01, 6.05327070e-01, 5.36289811e-01],\n",
              "          [8.11356843e-01, 8.46725643e-01, 8.29861760e-01]],\n",
              " \n",
              "         ...,\n",
              " \n",
              "         [[1.84191182e-01, 1.17524512e-01, 7.83088207e-02],\n",
              "          [1.89338237e-01, 1.18382350e-01, 6.60328567e-02],\n",
              "          [2.47476250e-01, 1.52022064e-01, 7.61757046e-02],\n",
              "          ...,\n",
              "          [1.85299858e-01, 1.17886409e-01, 8.68872553e-02],\n",
              "          [1.71953514e-01, 1.05286844e-01, 7.76118264e-02],\n",
              "          [1.67266011e-01, 9.58199278e-02, 7.07586557e-02]],\n",
              " \n",
              "         [[1.72945395e-01, 1.09036073e-01, 6.89012706e-02],\n",
              "          [1.84363514e-01, 1.22635186e-01, 7.38606751e-02],\n",
              "          [2.27613747e-01, 1.43547028e-01, 7.87377432e-02],\n",
              "          ...,\n",
              "          [1.85070083e-01, 1.18403412e-01, 8.70308653e-02],\n",
              "          [1.68162152e-01, 1.01495482e-01, 7.40445033e-02],\n",
              "          [1.68627456e-01, 1.01960786e-01, 7.45098069e-02]],\n",
              " \n",
              "         [[1.48958340e-01, 9.40563753e-02, 5.09191193e-02],\n",
              "          [1.56250000e-01, 1.01348042e-01, 6.60539195e-02],\n",
              "          [2.00306371e-01, 1.22439876e-01, 7.76079968e-02],\n",
              "          ...,\n",
              "          [1.85797721e-01, 1.19131051e-01, 8.77585039e-02],\n",
              "          [1.73006669e-01, 1.06339999e-01, 7.88890198e-02],\n",
              "          [1.68750003e-01, 1.02083333e-01, 7.46323541e-02]]],\n",
              " \n",
              " \n",
              "        [[[1.00000000e+00, 1.00000000e+00, 1.00000000e+00],\n",
              "          [1.00000000e+00, 1.00000000e+00, 1.00000000e+00],\n",
              "          [1.00000000e+00, 1.00000000e+00, 1.00000000e+00],\n",
              "          ...,\n",
              "          [1.00000000e+00, 1.00000000e+00, 1.00000000e+00],\n",
              "          [1.00000000e+00, 1.00000000e+00, 1.00000000e+00],\n",
              "          [1.00000000e+00, 1.00000000e+00, 1.00000000e+00]],\n",
              " \n",
              "         [[1.00000000e+00, 1.00000000e+00, 1.00000000e+00],\n",
              "          [1.00000000e+00, 1.00000000e+00, 1.00000000e+00],\n",
              "          [1.00000000e+00, 1.00000000e+00, 1.00000000e+00],\n",
              "          ...,\n",
              "          [1.00000000e+00, 1.00000000e+00, 1.00000000e+00],\n",
              "          [1.00000000e+00, 1.00000000e+00, 1.00000000e+00],\n",
              "          [1.00000000e+00, 1.00000000e+00, 1.00000000e+00]],\n",
              " \n",
              "         [[1.00000000e+00, 1.00000000e+00, 1.00000000e+00],\n",
              "          [1.00000000e+00, 1.00000000e+00, 1.00000000e+00],\n",
              "          [1.00000000e+00, 1.00000000e+00, 1.00000000e+00],\n",
              "          ...,\n",
              "          [1.00000000e+00, 1.00000000e+00, 1.00000000e+00],\n",
              "          [1.00000000e+00, 1.00000000e+00, 1.00000000e+00],\n",
              "          [1.00000000e+00, 1.00000000e+00, 1.00000000e+00]],\n",
              " \n",
              "         ...,\n",
              " \n",
              "         [[1.00000000e+00, 1.00000000e+00, 1.00000000e+00],\n",
              "          [1.00000000e+00, 1.00000000e+00, 1.00000000e+00],\n",
              "          [1.00000000e+00, 1.00000000e+00, 1.00000000e+00],\n",
              "          ...,\n",
              "          [1.00000000e+00, 1.00000000e+00, 1.00000000e+00],\n",
              "          [1.00000000e+00, 1.00000000e+00, 1.00000000e+00],\n",
              "          [1.00000000e+00, 1.00000000e+00, 1.00000000e+00]],\n",
              " \n",
              "         [[1.00000000e+00, 1.00000000e+00, 1.00000000e+00],\n",
              "          [1.00000000e+00, 1.00000000e+00, 1.00000000e+00],\n",
              "          [1.00000000e+00, 1.00000000e+00, 1.00000000e+00],\n",
              "          ...,\n",
              "          [1.00000000e+00, 1.00000000e+00, 1.00000000e+00],\n",
              "          [1.00000000e+00, 1.00000000e+00, 1.00000000e+00],\n",
              "          [1.00000000e+00, 1.00000000e+00, 1.00000000e+00]],\n",
              " \n",
              "         [[1.00000000e+00, 1.00000000e+00, 1.00000000e+00],\n",
              "          [1.00000000e+00, 1.00000000e+00, 1.00000000e+00],\n",
              "          [1.00000000e+00, 1.00000000e+00, 1.00000000e+00],\n",
              "          ...,\n",
              "          [1.00000000e+00, 1.00000000e+00, 1.00000000e+00],\n",
              "          [1.00000000e+00, 1.00000000e+00, 1.00000000e+00],\n",
              "          [1.00000000e+00, 1.00000000e+00, 1.00000000e+00]]],\n",
              " \n",
              " \n",
              "        ...,\n",
              " \n",
              " \n",
              "        [[[8.86274517e-01, 9.05882359e-01, 9.21568632e-01],\n",
              "          [8.86274517e-01, 9.05882359e-01, 9.21568632e-01],\n",
              "          [8.86274517e-01, 9.05882359e-01, 9.21568632e-01],\n",
              "          ...,\n",
              "          [8.50980401e-01, 8.78431380e-01, 9.09803927e-01],\n",
              "          [8.50980401e-01, 8.78431380e-01, 9.09803927e-01],\n",
              "          [8.50980401e-01, 8.78431380e-01, 9.09803927e-01]],\n",
              " \n",
              "         [[8.86274517e-01, 9.05882359e-01, 9.21568632e-01],\n",
              "          [8.86274517e-01, 9.05882359e-01, 9.21568632e-01],\n",
              "          [8.86274517e-01, 9.05882359e-01, 9.21568632e-01],\n",
              "          ...,\n",
              "          [8.50980401e-01, 8.78431380e-01, 9.09803927e-01],\n",
              "          [8.50980401e-01, 8.78431380e-01, 9.09803927e-01],\n",
              "          [8.50980401e-01, 8.78431380e-01, 9.09803927e-01]],\n",
              " \n",
              "         [[8.86274517e-01, 9.05882359e-01, 9.21568632e-01],\n",
              "          [8.86274517e-01, 9.05882359e-01, 9.21568632e-01],\n",
              "          [8.86274517e-01, 9.05882359e-01, 9.21568632e-01],\n",
              "          ...,\n",
              "          [8.50980401e-01, 8.78431380e-01, 9.09803927e-01],\n",
              "          [8.50980401e-01, 8.78431380e-01, 9.09803927e-01],\n",
              "          [8.50980401e-01, 8.78431380e-01, 9.09803927e-01]],\n",
              " \n",
              "         ...,\n",
              " \n",
              "         [[3.26953113e-01, 2.21966907e-01, 1.14640780e-01],\n",
              "          [4.52462465e-01, 3.16973031e-01, 2.03615203e-01],\n",
              "          [4.36481297e-01, 3.06587011e-01, 2.05392152e-01],\n",
              "          ...,\n",
              "          [7.40004629e-02, 7.40004629e-02, 7.40004629e-02],\n",
              "          [7.49885142e-02, 7.49885142e-02, 7.49885142e-02],\n",
              "          [9.31066200e-02, 8.82046595e-02, 9.06556398e-02]],\n",
              " \n",
              "         [[3.14859062e-01, 2.06035540e-01, 8.74004290e-02],\n",
              "          [4.80066627e-01, 3.24662983e-01, 1.93106622e-01],\n",
              "          [4.58026975e-01, 3.08333337e-01, 1.91482842e-01],\n",
              "          ...,\n",
              "          [5.49019612e-02, 5.49019612e-02, 5.49019612e-02],\n",
              "          [5.14705889e-02, 5.14705889e-02, 5.14705889e-02],\n",
              "          [5.34313731e-02, 5.34313731e-02, 5.34313731e-02]],\n",
              " \n",
              "         [[3.02389711e-01, 1.99559584e-01, 7.32460171e-02],\n",
              "          [4.74724263e-01, 3.16390932e-01, 1.79407939e-01],\n",
              "          [4.64763314e-01, 3.06805313e-01, 1.78431377e-01],\n",
              "          ...,\n",
              "          [5.49019612e-02, 5.49019612e-02, 5.49019612e-02],\n",
              "          [5.14705889e-02, 5.14705889e-02, 5.14705889e-02],\n",
              "          [5.09803928e-02, 5.58823533e-02, 5.34313731e-02]]],\n",
              " \n",
              " \n",
              "        [[[5.88235296e-02, 5.88235296e-02, 5.88235296e-02],\n",
              "          [5.88235296e-02, 5.88235296e-02, 5.88235296e-02],\n",
              "          [5.88235296e-02, 5.88235296e-02, 5.88235296e-02],\n",
              "          ...,\n",
              "          [4.32843149e-01, 2.91666657e-01, 1.89705878e-01],\n",
              "          [4.32843149e-01, 2.91666657e-01, 1.89705878e-01],\n",
              "          [4.27941173e-01, 2.86764711e-01, 1.84803918e-01]],\n",
              " \n",
              "         [[5.88235296e-02, 5.88235296e-02, 5.88235296e-02],\n",
              "          [5.88235296e-02, 5.88235296e-02, 5.88235296e-02],\n",
              "          [5.88235296e-02, 5.88235296e-02, 5.88235296e-02],\n",
              "          ...,\n",
              "          [4.27669257e-01, 2.86492795e-01, 1.84532017e-01],\n",
              "          [4.20278043e-01, 2.79101551e-01, 1.77140772e-01],\n",
              "          [4.07984823e-01, 2.66808361e-01, 1.64847583e-01]],\n",
              " \n",
              "         [[5.88235296e-02, 5.88235296e-02, 5.88235296e-02],\n",
              "          [5.88235296e-02, 5.88235296e-02, 5.88235296e-02],\n",
              "          [5.88235296e-02, 5.88235296e-02, 5.88235296e-02],\n",
              "          ...,\n",
              "          [4.32052314e-01, 2.90875852e-01, 1.88915059e-01],\n",
              "          [4.17911291e-01, 2.76734829e-01, 1.74774051e-01],\n",
              "          [3.99446607e-01, 2.58270144e-01, 1.56309366e-01]],\n",
              " \n",
              "         ...,\n",
              " \n",
              "         [[3.98542821e-01, 3.57630581e-01, 3.80407482e-01],\n",
              "          [2.89403349e-01, 2.43462771e-01, 2.43753836e-01],\n",
              "          [2.52629071e-01, 1.95314422e-01, 1.67763859e-01],\n",
              "          ...,\n",
              "          [0.00000000e+00, 0.00000000e+00, 0.00000000e+00],\n",
              "          [1.00528495e-03, 1.00528495e-03, 1.00528495e-03],\n",
              "          [1.55081954e-02, 1.55081954e-02, 1.55081954e-02]],\n",
              " \n",
              "         [[2.86192179e-01, 2.44268924e-01, 2.54850268e-01],\n",
              "          [2.15400964e-01, 1.71170339e-01, 1.59292668e-01],\n",
              "          [2.39834175e-01, 1.79653034e-01, 1.44510180e-01],\n",
              "          ...,\n",
              "          [0.00000000e+00, 0.00000000e+00, 0.00000000e+00],\n",
              "          [4.86366404e-03, 4.86366404e-03, 4.86366404e-03],\n",
              "          [3.43347900e-02, 3.43347900e-02, 3.43347900e-02]],\n",
              " \n",
              "         [[1.83823526e-01, 1.44117653e-01, 1.46568626e-01],\n",
              "          [1.99509799e-01, 1.53431371e-01, 1.39705881e-01],\n",
              "          [2.38725483e-01, 1.80392161e-01, 1.39705881e-01],\n",
              "          ...,\n",
              "          [0.00000000e+00, 0.00000000e+00, 0.00000000e+00],\n",
              "          [1.22549022e-02, 1.22549022e-02, 1.22549022e-02],\n",
              "          [5.39215691e-02, 5.39215691e-02, 5.39215691e-02]]],\n",
              " \n",
              " \n",
              "        [[[1.42080272e-02, 2.98943017e-02, 4.16590087e-02],\n",
              "          [3.00245103e-03, 1.81268435e-02, 2.98915487e-02],\n",
              "          [4.52461978e-03, 8.44618864e-03, 1.62893254e-02],\n",
              "          ...,\n",
              "          [3.41197878e-01, 3.34212601e-01, 3.11541021e-01],\n",
              "          [3.67887259e-01, 3.56122553e-01, 3.28671575e-01],\n",
              "          [4.01952416e-01, 3.90187711e-01, 3.62736732e-01]],\n",
              " \n",
              "         [[2.05778237e-02, 3.62640992e-02, 4.80288044e-02],\n",
              "          [3.65349255e-03, 1.93397664e-02, 3.11044734e-02],\n",
              "          [1.78617588e-03, 3.31803854e-03, 1.11611756e-02],\n",
              "          ...,\n",
              "          [3.38483393e-01, 3.31498086e-01, 3.14279944e-01],\n",
              "          [3.23343784e-01, 3.11579078e-01, 2.91971236e-01],\n",
              "          [3.19692105e-01, 3.07927400e-01, 2.88319558e-01]],\n",
              " \n",
              "         [[2.08333340e-02, 3.65196094e-02, 4.82843146e-02],\n",
              "          [6.92401966e-03, 2.26102937e-02, 3.43750007e-02],\n",
              "          [3.06372554e-03, 6.84993947e-03, 1.46930767e-02],\n",
              "          ...,\n",
              "          [3.18678439e-01, 3.11693132e-01, 2.94474989e-01],\n",
              "          [3.19960177e-01, 3.08195472e-01, 2.88587630e-01],\n",
              "          [3.24687511e-01, 3.12922806e-01, 2.93314964e-01]],\n",
              " \n",
              "         ...,\n",
              " \n",
              "         [[2.00513646e-01, 1.65219530e-01, 1.30369663e-01],\n",
              "          [1.07466757e-01, 8.19290429e-02, 3.33749801e-02],\n",
              "          [1.72931269e-01, 1.45258173e-01, 1.05376117e-01],\n",
              "          ...,\n",
              "          [3.87705237e-01, 3.44790101e-01, 3.20507586e-01],\n",
              "          [3.24412614e-01, 2.81497478e-01, 2.58709610e-01],\n",
              "          [3.86847764e-01, 3.43932629e-01, 3.26469392e-01]],\n",
              " \n",
              "         [[1.34766340e-01, 8.63901153e-02, 5.44421636e-02],\n",
              "          [2.44671389e-01, 2.00715184e-01, 1.40266091e-01],\n",
              "          [1.95062608e-01, 1.53878480e-01, 8.65454599e-02],\n",
              "          ...,\n",
              "          [4.28964645e-01, 3.89748961e-01, 3.52922976e-01],\n",
              "          [4.91680324e-01, 4.52464610e-01, 4.11410689e-01],\n",
              "          [7.84931362e-01, 7.48986244e-01, 6.85574770e-01]],\n",
              " \n",
              "         [[2.91440964e-01, 2.42738858e-01, 1.66085869e-01],\n",
              "          [3.47282141e-01, 2.87899494e-01, 1.96109667e-01],\n",
              "          [3.59706998e-01, 2.90642947e-01, 2.07416847e-01],\n",
              "          ...,\n",
              "          [6.38147950e-01, 5.87628663e-01, 5.74403048e-01],\n",
              "          [6.20356083e-01, 5.67540169e-01, 5.48802733e-01],\n",
              "          [4.01173681e-01, 3.51717472e-01, 3.19042861e-01]]]],\n",
              "       dtype=float32),\n",
              " array([1, 0, 0, 0, 0, 0, 1, 0, 0, 0, 0, 1, 0, 1, 1, 1, 0, 0, 0, 1, 1, 0,\n",
              "        1, 0, 1, 1, 1, 0, 0, 0, 1, 1], dtype=int32))"
            ]
          },
          "metadata": {},
          "execution_count": 11
        }
      ]
    },
    {
      "cell_type": "code",
      "source": [
        "train_size = int(len(data)*.7)\n",
        "val_size = int(len(data)*.2)\n",
        "test_size = int(len(data)*.1)\n",
        "train = data.take(train_size)\n",
        "val = data.skip(train_size).take(val_size)\n",
        "test = data.skip(train_size+val_size).take(test_size)"
      ],
      "metadata": {
        "id": "9CkmrXWOQ5wx"
      },
      "execution_count": null,
      "outputs": []
    },
    {
      "cell_type": "code",
      "source": [
        "from tensorflow.keras.models import Sequential\n",
        "from tensorflow.keras.layers import Conv2D, MaxPooling2D, Dense, Flatten\n",
        "model = Sequential()"
      ],
      "metadata": {
        "id": "WHk2idLzRLuT"
      },
      "execution_count": null,
      "outputs": []
    },
    {
      "cell_type": "code",
      "source": [
        "model.add(Conv2D(16, (3,3), 1, activation='relu', input_shape=(256,256,3)))\n",
        "model.add(MaxPooling2D())\n",
        "model.add(Conv2D(32, (3,3), 1, activation='relu'))\n",
        "model.add(MaxPooling2D())\n",
        "model.add(Conv2D(16, (3,3), 1, activation='relu'))\n",
        "model.add(MaxPooling2D())\n",
        "model.add(Flatten())\n",
        "model.add(Dense(256, activation='relu'))\n",
        "model.add(Dense(1, activation='sigmoid'))\n",
        "model.compile('adam', loss=tf.losses.BinaryCrossentropy(), metrics=['accuracy'])"
      ],
      "metadata": {
        "id": "QLY_QV3GRX22"
      },
      "execution_count": null,
      "outputs": []
    },
    {
      "cell_type": "code",
      "source": [
        "logdir='logs'\n",
        "tensorboard_callback = tf.keras.callbacks.TensorBoard(log_dir=logdir)\n",
        "hist = model.fit(train, epochs=20, validation_data=val, callbacks=[tensorboard_callback])"
      ],
      "metadata": {
        "colab": {
          "base_uri": "https://localhost:8080/"
        },
        "id": "cMxD95NhRr70",
        "outputId": "e46debe3-58d8-47e4-b468-97f059d87737"
      },
      "execution_count": null,
      "outputs": [
        {
          "output_type": "stream",
          "name": "stdout",
          "text": [
            "Epoch 1/20\n",
            "7/7 [==============================] - 19s 2s/step - loss: 164.9907 - accuracy: 0.4777 - val_loss: 4.6820 - val_accuracy: 0.6406\n",
            "Epoch 2/20\n",
            "7/7 [==============================] - 16s 2s/step - loss: 1.4734 - accuracy: 0.5938 - val_loss: 0.6320 - val_accuracy: 0.6406\n",
            "Epoch 3/20\n",
            "7/7 [==============================] - 12s 1s/step - loss: 0.5027 - accuracy: 0.7857 - val_loss: 0.4260 - val_accuracy: 0.7969\n",
            "Epoch 4/20\n",
            "7/7 [==============================] - 12s 1s/step - loss: 0.3801 - accuracy: 0.8527 - val_loss: 0.2787 - val_accuracy: 0.8906\n",
            "Epoch 5/20\n",
            "7/7 [==============================] - 16s 2s/step - loss: 0.2616 - accuracy: 0.8929 - val_loss: 0.2093 - val_accuracy: 0.8750\n",
            "Epoch 6/20\n",
            "7/7 [==============================] - 14s 2s/step - loss: 0.2180 - accuracy: 0.9152 - val_loss: 0.0896 - val_accuracy: 0.9844\n",
            "Epoch 7/20\n",
            "7/7 [==============================] - 16s 2s/step - loss: 0.1245 - accuracy: 0.9598 - val_loss: 0.0931 - val_accuracy: 0.9688\n",
            "Epoch 8/20\n",
            "7/7 [==============================] - 12s 1s/step - loss: 0.0717 - accuracy: 0.9821 - val_loss: 0.0241 - val_accuracy: 1.0000\n",
            "Epoch 9/20\n",
            "7/7 [==============================] - 12s 1s/step - loss: 0.0387 - accuracy: 0.9911 - val_loss: 0.0352 - val_accuracy: 1.0000\n",
            "Epoch 10/20\n",
            "7/7 [==============================] - 13s 1s/step - loss: 0.0488 - accuracy: 0.9866 - val_loss: 0.0413 - val_accuracy: 1.0000\n",
            "Epoch 11/20\n",
            "7/7 [==============================] - 12s 1s/step - loss: 0.0255 - accuracy: 1.0000 - val_loss: 0.0281 - val_accuracy: 1.0000\n",
            "Epoch 12/20\n",
            "7/7 [==============================] - 13s 1s/step - loss: 0.0127 - accuracy: 1.0000 - val_loss: 0.0385 - val_accuracy: 0.9844\n",
            "Epoch 13/20\n",
            "7/7 [==============================] - 16s 2s/step - loss: 0.0056 - accuracy: 1.0000 - val_loss: 0.0056 - val_accuracy: 1.0000\n",
            "Epoch 14/20\n",
            "7/7 [==============================] - 13s 1s/step - loss: 0.0095 - accuracy: 1.0000 - val_loss: 0.0020 - val_accuracy: 1.0000\n",
            "Epoch 15/20\n",
            "7/7 [==============================] - 16s 2s/step - loss: 0.0076 - accuracy: 1.0000 - val_loss: 0.0095 - val_accuracy: 1.0000\n",
            "Epoch 16/20\n",
            "7/7 [==============================] - 12s 1s/step - loss: 0.0044 - accuracy: 1.0000 - val_loss: 0.0019 - val_accuracy: 1.0000\n",
            "Epoch 17/20\n",
            "7/7 [==============================] - 16s 2s/step - loss: 0.0017 - accuracy: 1.0000 - val_loss: 1.6418e-04 - val_accuracy: 1.0000\n",
            "Epoch 18/20\n",
            "7/7 [==============================] - 13s 1s/step - loss: 0.0020 - accuracy: 1.0000 - val_loss: 0.0032 - val_accuracy: 1.0000\n",
            "Epoch 19/20\n",
            "7/7 [==============================] - 16s 2s/step - loss: 5.7344e-04 - accuracy: 1.0000 - val_loss: 4.0599e-04 - val_accuracy: 1.0000\n",
            "Epoch 20/20\n",
            "7/7 [==============================] - 14s 2s/step - loss: 6.1463e-04 - accuracy: 1.0000 - val_loss: 2.5409e-04 - val_accuracy: 1.0000\n"
          ]
        }
      ]
    },
    {
      "cell_type": "code",
      "source": [
        "fig = plt.figure()\n",
        "plt.plot(hist.history['loss'], color='teal', label='loss')\n",
        "plt.plot(hist.history['val_loss'], color='orange', label='val_loss')\n",
        "fig.suptitle('Loss', fontsize=20)\n",
        "plt.legend(loc=(1.04, 0))\n",
        "plt.show()"
      ],
      "metadata": {
        "colab": {
          "base_uri": "https://localhost:8080/",
          "height": 478
        },
        "id": "eUubq-fZR2n9",
        "outputId": "e056280d-d9d6-47f7-f853-9a5560e8831e"
      },
      "execution_count": null,
      "outputs": [
        {
          "output_type": "display_data",
          "data": {
            "text/plain": [
              "<Figure size 640x480 with 1 Axes>"
            ],
            "image/png": "[encoded data removed]"
          },
          "metadata": {}
        }
      ]
    },
    {
      "cell_type": "code",
      "source": [
        "fig = plt.figure()\n",
        "plt.plot(hist.history['accuracy'], color='teal', label='accuracy')\n",
        "plt.plot(hist.history['val_accuracy'], color='orange', label='val_accuracy')\n",
        "fig.suptitle('Accuracy', fontsize=20)\n",
        "plt.legend(loc=(1.04, 0))\n",
        "plt.show()"
      ],
      "metadata": {
        "colab": {
          "base_uri": "https://localhost:8080/",
          "height": 478
        },
        "id": "rzjoTlQnT6K_",
        "outputId": "ea42c371-fe5e-4b67-df5f-9ffbb77d4355"
      },
      "execution_count": null,
      "outputs": [
        {
          "output_type": "display_data",
          "data": {
            "text/plain": [
              "<Figure size 640x480 with 1 Axes>"
            ],
            "image/png": "[encoded data removed]"
          },
          "metadata": {}
        }
      ]
    },
    {
      "cell_type": "code",
      "source": [
        "from tensorflow.keras.metrics import Precision, Recall, BinaryAccuracy\n",
        "pre = Precision()\n",
        "re = Recall()\n",
        "acc = BinaryAccuracy()\n",
        "for batch in test.as_numpy_iterator():\n",
        "    X, y = batch\n",
        "    yhat = model.predict(X)\n",
        "    pre.update_state(y, yhat)\n",
        "    re.update_state(y, yhat)\n",
        "    acc.update_state(y, yhat)"
      ],
      "metadata": {
        "colab": {
          "base_uri": "https://localhost:8080/"
        },
        "id": "Vc8NOXaxUAwI",
        "outputId": "dfc6c850-8d81-47de-c2f3-ab87ab77fb4f"
      },
      "execution_count": null,
      "outputs": [
        {
          "output_type": "stream",
          "name": "stdout",
          "text": [
            "1/1 [==============================] - 0s 82ms/step\n"
          ]
        }
      ]
    },
    {
      "cell_type": "code",
      "source": [
        "model.save(os.path.join('/content/drive/MyDrive/models','imageclassifier.h5'))"
      ],
      "metadata": {
        "id": "Wj-pgxjUU9B4"
      },
      "execution_count": null,
      "outputs": []
    },
    {
      "cell_type": "code",
      "source": [
        "import cv2"
      ],
      "metadata": {
        "id": "g8dEZ-_AXm3C"
      },
      "execution_count": null,
      "outputs": []
    },
    {
      "cell_type": "code",
      "source": [
        "img = cv2.imread('test2.jpg')\n",
        "resize = tf.image.resize(img, (256,256))\n",
        "yhat = model.predict(np.expand_dims(resize/255, 0))\n",
        "if yhat > 0.5:\n",
        "    print(f'Predicted class is Sad')\n",
        "else:\n",
        "    print(f'Predicted class is Happy')\n"
      ],
      "metadata": {
        "colab": {
          "base_uri": "https://localhost:8080/"
        },
        "id": "QR1tMqbHYd7K",
        "outputId": "afaeac50-0407-4efc-fee9-73cda7bd1d7c"
      },
      "execution_count": null,
      "outputs": [
        {
          "output_type": "stream",
          "name": "stdout",
          "text": [
            "1/1 [==============================] - 0s 43ms/step\n",
            "Predicted class is Sad\n"
          ]
        }
      ]
    },
    {
      "cell_type": "code",
      "source": [],
      "metadata": {
        "id": "6UqEadtEYpbT"
      },
      "execution_count": null,
      "outputs": []
    }
  ]
}